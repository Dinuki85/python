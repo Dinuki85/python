{
 "cells": [
  {
   "cell_type": "code",
   "id": "initial_id",
   "metadata": {
    "collapsed": true,
    "ExecuteTime": {
     "end_time": "2025-09-18T16:02:53.431677Z",
     "start_time": "2025-09-18T16:02:53.427276Z"
    }
   },
   "source": [
    "#Create a list\n",
    "list=[\"apple\",\"orange\",\"pineapple\"]"
   ],
   "outputs": [],
   "execution_count": 2
  },
  {
   "metadata": {
    "ExecuteTime": {
     "end_time": "2025-09-18T16:03:05.037851Z",
     "start_time": "2025-09-18T16:03:05.031745Z"
    }
   },
   "cell_type": "code",
   "source": [
    "#print the list\n",
    "print(list)"
   ],
   "id": "bbb7bc55b9d8a386",
   "outputs": [
    {
     "name": "stdout",
     "output_type": "stream",
     "text": [
      "['apple', 'orange', 'pineapple']\n"
     ]
    }
   ],
   "execution_count": 3
  },
  {
   "metadata": {
    "ExecuteTime": {
     "end_time": "2025-09-18T16:03:50.410355Z",
     "start_time": "2025-09-18T16:03:50.403482Z"
    }
   },
   "cell_type": "code",
   "source": [
    "#Define the list\n",
    "list1 =[1,'C',\"New Variable\"]"
   ],
   "id": "d30a16a36edca87b",
   "outputs": [],
   "execution_count": 4
  },
  {
   "metadata": {
    "ExecuteTime": {
     "end_time": "2025-09-18T16:03:56.760617Z",
     "start_time": "2025-09-18T16:03:56.755633Z"
    }
   },
   "cell_type": "code",
   "source": "print(list1)",
   "id": "bf27fcb63a597272",
   "outputs": [
    {
     "name": "stdout",
     "output_type": "stream",
     "text": [
      "[1, 'C', 'New Variable']\n"
     ]
    }
   ],
   "execution_count": 5
  },
  {
   "metadata": {
    "ExecuteTime": {
     "end_time": "2025-09-18T16:04:16.240513Z",
     "start_time": "2025-09-18T16:04:16.236207Z"
    }
   },
   "cell_type": "code",
   "source": [
    "#Get the length of the list\n",
    "print(len(list1))"
   ],
   "id": "6d46896c0132f8c6",
   "outputs": [
    {
     "name": "stdout",
     "output_type": "stream",
     "text": [
      "3\n"
     ]
    }
   ],
   "execution_count": 6
  },
  {
   "metadata": {
    "ExecuteTime": {
     "end_time": "2025-09-18T16:04:50.416395Z",
     "start_time": "2025-09-18T16:04:50.407885Z"
    }
   },
   "cell_type": "code",
   "source": [
    "#find the type of the list\n",
    "print(type(list1))"
   ],
   "id": "6e6be33acc942c22",
   "outputs": [
    {
     "name": "stdout",
     "output_type": "stream",
     "text": [
      "<class 'list'>\n"
     ]
    }
   ],
   "execution_count": 7
  },
  {
   "metadata": {
    "ExecuteTime": {
     "end_time": "2025-09-18T16:06:43.544690Z",
     "start_time": "2025-09-18T16:06:43.530118Z"
    }
   },
   "cell_type": "code",
   "source": [
    "#arrat also can initialise and print and get the length and type of the array as same as the list\n",
    "array1=[1,2,3,4,5]\n",
    "print(array1)\n",
    "print(len(array1))\n",
    "print(type(array1))"
   ],
   "id": "8e0bace14222b4b",
   "outputs": [
    {
     "name": "stdout",
     "output_type": "stream",
     "text": [
      "[1, 2, 3, 4, 5]\n",
      "5\n",
      "<class 'list'>\n"
     ]
    }
   ],
   "execution_count": 8
  },
  {
   "metadata": {},
   "cell_type": "code",
   "outputs": [],
   "execution_count": null,
   "source": "",
   "id": "b5e5bb05ac2db9ff"
  }
 ],
 "metadata": {
  "kernelspec": {
   "display_name": "Python 3",
   "language": "python",
   "name": "python3"
  },
  "language_info": {
   "codemirror_mode": {
    "name": "ipython",
    "version": 2
   },
   "file_extension": ".py",
   "mimetype": "text/x-python",
   "name": "python",
   "nbconvert_exporter": "python",
   "pygments_lexer": "ipython2",
   "version": "2.7.6"
  }
 },
 "nbformat": 4,
 "nbformat_minor": 5
}
