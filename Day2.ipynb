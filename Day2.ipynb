{
 "cells": [
  {
   "cell_type": "code",
   "id": "initial_id",
   "metadata": {
    "collapsed": true,
    "ExecuteTime": {
     "end_time": "2025-09-18T16:02:53.431677Z",
     "start_time": "2025-09-18T16:02:53.427276Z"
    }
   },
   "source": [
    "#Create a list\n",
    "list=[\"apple\",\"orange\",\"pineapple\"]"
   ],
   "outputs": [],
   "execution_count": 2
  },
  {
   "metadata": {
    "ExecuteTime": {
     "end_time": "2025-09-18T16:03:05.037851Z",
     "start_time": "2025-09-18T16:03:05.031745Z"
    }
   },
   "cell_type": "code",
   "source": [
    "#print the list\n",
    "print(list)"
   ],
   "id": "bbb7bc55b9d8a386",
   "outputs": [
    {
     "name": "stdout",
     "output_type": "stream",
     "text": [
      "['apple', 'orange', 'pineapple']\n"
     ]
    }
   ],
   "execution_count": 3
  },
  {
   "metadata": {
    "ExecuteTime": {
     "end_time": "2025-09-18T16:03:50.410355Z",
     "start_time": "2025-09-18T16:03:50.403482Z"
    }
   },
   "cell_type": "code",
   "source": [
    "#Define the list\n",
    "list1 =[1,'C',\"New Variable\"]"
   ],
   "id": "d30a16a36edca87b",
   "outputs": [],
   "execution_count": 4
  },
  {
   "metadata": {
    "ExecuteTime": {
     "end_time": "2025-09-18T16:03:56.760617Z",
     "start_time": "2025-09-18T16:03:56.755633Z"
    }
   },
   "cell_type": "code",
   "source": "print(list1)",
   "id": "bf27fcb63a597272",
   "outputs": [
    {
     "name": "stdout",
     "output_type": "stream",
     "text": [
      "[1, 'C', 'New Variable']\n"
     ]
    }
   ],
   "execution_count": 5
  },
  {
   "metadata": {
    "ExecuteTime": {
     "end_time": "2025-09-18T16:04:16.240513Z",
     "start_time": "2025-09-18T16:04:16.236207Z"
    }
   },
   "cell_type": "code",
   "source": [
    "#Get the length of the list\n",
    "print(len(list1))"
   ],
   "id": "6d46896c0132f8c6",
   "outputs": [
    {
     "name": "stdout",
     "output_type": "stream",
     "text": [
      "3\n"
     ]
    }
   ],
   "execution_count": 6
  },
  {
   "metadata": {
    "ExecuteTime": {
     "end_time": "2025-09-18T16:04:50.416395Z",
     "start_time": "2025-09-18T16:04:50.407885Z"
    }
   },
   "cell_type": "code",
   "source": [
    "#find the type of the list\n",
    "print(type(list1))"
   ],
   "id": "6e6be33acc942c22",
   "outputs": [
    {
     "name": "stdout",
     "output_type": "stream",
     "text": [
      "<class 'list'>\n"
     ]
    }
   ],
   "execution_count": 7
  },
  {
   "metadata": {
    "ExecuteTime": {
     "end_time": "2025-09-18T16:06:43.544690Z",
     "start_time": "2025-09-18T16:06:43.530118Z"
    }
   },
   "cell_type": "code",
   "source": [
    "#arrat also can initialise and print and get the length and type of the array as same as the list\n",
    "array1=[1,2,3,4,5]\n",
    "print(array1)\n",
    "print(len(array1))\n",
    "print(type(array1))"
   ],
   "id": "8e0bace14222b4b",
   "outputs": [
    {
     "name": "stdout",
     "output_type": "stream",
     "text": [
      "[1, 2, 3, 4, 5]\n",
      "5\n",
      "<class 'list'>\n"
     ]
    }
   ],
   "execution_count": 8
  },
  {
   "metadata": {
    "ExecuteTime": {
     "end_time": "2025-09-18T16:08:27.815237Z",
     "start_time": "2025-09-18T16:08:27.793199Z"
    }
   },
   "cell_type": "code",
   "source": [
    "#Access the elements in the array\n",
    "array=[4,5,6,7]\n",
    "print(array)\n",
    "\n",
    "#access\n",
    "print(array[0])"
   ],
   "id": "b5e5bb05ac2db9ff",
   "outputs": [
    {
     "name": "stdout",
     "output_type": "stream",
     "text": [
      "[4, 5, 6, 7]\n",
      "4\n"
     ]
    }
   ],
   "execution_count": 9
  },
  {
   "metadata": {
    "ExecuteTime": {
     "end_time": "2025-09-18T16:09:04.028503Z",
     "start_time": "2025-09-18T16:09:04.021160Z"
    }
   },
   "cell_type": "code",
   "source": "print(array[3])",
   "id": "c639f67607579c80",
   "outputs": [
    {
     "name": "stdout",
     "output_type": "stream",
     "text": [
      "7\n"
     ]
    }
   ],
   "execution_count": 11
  },
  {
   "metadata": {
    "ExecuteTime": {
     "end_time": "2025-09-18T16:10:12.890054Z",
     "start_time": "2025-09-18T16:10:12.882197Z"
    }
   },
   "cell_type": "code",
   "source": [
    "#append-assign a new value to the array\n",
    "array2=[12,13,14,15,18,69,2,38,26,38,45]\n",
    "array2.append(8)\n",
    "print(array2)"
   ],
   "id": "fe162f2a0e3bac03",
   "outputs": [
    {
     "name": "stdout",
     "output_type": "stream",
     "text": [
      "[12, 13, 14, 15, 18, 69, 2, 38, 26, 38, 45, 8]\n"
     ]
    }
   ],
   "execution_count": 13
  },
  {
   "metadata": {
    "ExecuteTime": {
     "end_time": "2025-09-18T16:11:09.693461Z",
     "start_time": "2025-09-18T16:11:09.687989Z"
    }
   },
   "cell_type": "code",
   "source": [
    "#pop-remove one element from the array\n",
    "array2.pop(2)\n",
    "print(array2)"
   ],
   "id": "e1430f828678ecb3",
   "outputs": [
    {
     "name": "stdout",
     "output_type": "stream",
     "text": [
      "[12, 13, 15, 18, 69, 2, 38, 26, 38, 45, 8]\n"
     ]
    }
   ],
   "execution_count": 14
  },
  {
   "metadata": {
    "ExecuteTime": {
     "end_time": "2025-09-18T16:12:05.586584Z",
     "start_time": "2025-09-18T16:12:05.578190Z"
    }
   },
   "cell_type": "code",
   "source": [
    "#copy-make copy of the array\n",
    "array4 = array2.copy()\n",
    "print(array4)"
   ],
   "id": "9a1ea96f6dbc1046",
   "outputs": [
    {
     "name": "stdout",
     "output_type": "stream",
     "text": [
      "[12, 13, 15, 18, 69, 2, 38, 26, 38, 45, 8]\n"
     ]
    }
   ],
   "execution_count": 15
  },
  {
   "metadata": {
    "ExecuteTime": {
     "end_time": "2025-09-18T16:13:25.808088Z",
     "start_time": "2025-09-18T16:13:25.799201Z"
    }
   },
   "cell_type": "code",
   "source": [
    "#count-give number of element in the array\n",
    "array3=[1,1,2,52,42,4,5,2,1,1,2,5,2,3,5,3,6,5,3,6,25,4,3,5,]\n",
    "print(array3.count(1))\n"
   ],
   "id": "e69ba984fe5f0acf",
   "outputs": [
    {
     "name": "stdout",
     "output_type": "stream",
     "text": [
      "4\n"
     ]
    }
   ],
   "execution_count": 16
  },
  {
   "metadata": {
    "ExecuteTime": {
     "end_time": "2025-09-18T16:14:14.022802Z",
     "start_time": "2025-09-18T16:14:14.012285Z"
    }
   },
   "cell_type": "code",
   "source": [
    "#clear-remove all the elements\n",
    "array2.clear()\n",
    "print(array2)"
   ],
   "id": "b92ee151440b8e",
   "outputs": [
    {
     "name": "stdout",
     "output_type": "stream",
     "text": [
      "[]\n"
     ]
    }
   ],
   "execution_count": 17
  },
  {
   "metadata": {
    "ExecuteTime": {
     "end_time": "2025-09-18T16:20:32.278806Z",
     "start_time": "2025-09-18T16:20:32.249944Z"
    }
   },
   "cell_type": "code",
   "source": [
    "#extends-add all elements from one iterable to the end of another list\n",
    "oldarray =[1,5,8,6,8,6]\n",
    "newarray=[1,5,3,5,6]\n",
    "oldarray.extend(newarray)\n",
    "print(oldarray)"
   ],
   "id": "5568a249bab98bfa",
   "outputs": [
    {
     "name": "stdout",
     "output_type": "stream",
     "text": [
      "[1, 5, 8, 6, 8, 6, 1, 5, 3, 5, 6]\n"
     ]
    }
   ],
   "execution_count": 18
  },
  {
   "metadata": {
    "ExecuteTime": {
     "end_time": "2025-09-18T16:21:19.068548Z",
     "start_time": "2025-09-18T16:21:19.055595Z"
    }
   },
   "cell_type": "code",
   "source": [
    "#index-find the position of an array\n",
    "print(array3.index(2))"
   ],
   "id": "9af4bf63faddf57",
   "outputs": [
    {
     "name": "stdout",
     "output_type": "stream",
     "text": [
      "2\n"
     ]
    }
   ],
   "execution_count": 19
  },
  {
   "metadata": {
    "ExecuteTime": {
     "end_time": "2025-09-18T16:22:25.194799Z",
     "start_time": "2025-09-18T16:22:25.175690Z"
    }
   },
   "cell_type": "code",
   "source": [
    "#insert-use to add an element in the specific position\n",
    "array3.insert(1,5)\n",
    "print(array3)"
   ],
   "id": "1693435682eea852",
   "outputs": [
    {
     "name": "stdout",
     "output_type": "stream",
     "text": [
      "[1, 5, 1, 2, 52, 42, 4, 5, 2, 1, 1, 2, 5, 2, 3, 5, 3, 6, 5, 3, 6, 25, 4, 3, 5]\n"
     ]
    }
   ],
   "execution_count": 20
  },
  {
   "metadata": {
    "ExecuteTime": {
     "end_time": "2025-09-18T16:23:20.000662Z",
     "start_time": "2025-09-18T16:23:19.983965Z"
    }
   },
   "cell_type": "code",
   "source": [
    "#remove-delete the first occurences of a specific value\n",
    "array3.remove(5)\n",
    "print(array3)"
   ],
   "id": "d597ffc5d0cc9a18",
   "outputs": [
    {
     "name": "stdout",
     "output_type": "stream",
     "text": [
      "[1, 1, 2, 52, 42, 4, 5, 2, 1, 1, 2, 5, 2, 3, 5, 3, 6, 5, 3, 6, 25, 4, 3, 5]\n"
     ]
    }
   ],
   "execution_count": 21
  },
  {
   "metadata": {
    "ExecuteTime": {
     "end_time": "2025-09-18T16:24:01.741639Z",
     "start_time": "2025-09-18T16:24:01.725733Z"
    }
   },
   "cell_type": "code",
   "source": [
    "#sort-ascending or descending order\n",
    "array3.sort()\n",
    "print(array3)\n"
   ],
   "id": "c4a6198e8dbfd803",
   "outputs": [
    {
     "name": "stdout",
     "output_type": "stream",
     "text": [
      "[1, 1, 1, 1, 2, 2, 2, 2, 3, 3, 3, 3, 4, 4, 5, 5, 5, 5, 5, 6, 6, 25, 42, 52]\n"
     ]
    }
   ],
   "execution_count": 22
  },
  {
   "metadata": {
    "ExecuteTime": {
     "end_time": "2025-09-18T16:26:37.572716Z",
     "start_time": "2025-09-18T16:26:37.565092Z"
    }
   },
   "cell_type": "code",
   "source": [
    "#numpy-dealing with numerical values\n",
    "import numpy as np\n"
   ],
   "id": "abcf8caf441694f8",
   "outputs": [],
   "execution_count": 25
  },
  {
   "metadata": {
    "ExecuteTime": {
     "end_time": "2025-09-18T16:27:20.867303Z",
     "start_time": "2025-09-18T16:27:20.768970Z"
    }
   },
   "cell_type": "code",
   "source": [
    "list=[1,2,3,4,5,6,7,8,9]\n",
    "list"
   ],
   "id": "e1c1e1faad2c57b1",
   "outputs": [
    {
     "data": {
      "text/plain": [
       "[1, 2, 3, 4, 5, 6, 7, 8, 9]"
      ]
     },
     "execution_count": 26,
     "metadata": {},
     "output_type": "execute_result"
    }
   ],
   "execution_count": 26
  },
  {
   "metadata": {
    "ExecuteTime": {
     "end_time": "2025-09-18T16:27:45.975361Z",
     "start_time": "2025-09-18T16:27:45.916405Z"
    }
   },
   "cell_type": "code",
   "source": [
    "#Converted to the numerical value\n",
    "np_array=np.array(list)\n",
    "np_array"
   ],
   "id": "8e1809eca2dc6ce",
   "outputs": [
    {
     "data": {
      "text/plain": [
       "array([1, 2, 3, 4, 5, 6, 7, 8, 9])"
      ]
     },
     "execution_count": 27,
     "metadata": {},
     "output_type": "execute_result"
    }
   ],
   "execution_count": 27
  },
  {
   "metadata": {
    "ExecuteTime": {
     "end_time": "2025-09-18T16:29:04.897957Z",
     "start_time": "2025-09-18T16:29:04.846189Z"
    }
   },
   "cell_type": "code",
   "source": [
    "import numpy as np\n",
    "list1 =[\"banana\",\"apple\",\"pineapple\"]\n",
    "list1\n",
    "np_array=np.array(list1)\n",
    "np_array\n"
   ],
   "id": "72eac237b1a8e124",
   "outputs": [
    {
     "data": {
      "text/plain": [
       "array(['banana', 'apple', 'pineapple'], dtype='<U9')"
      ]
     },
     "execution_count": 28,
     "metadata": {},
     "output_type": "execute_result"
    }
   ],
   "execution_count": 28
  },
  {
   "metadata": {
    "ExecuteTime": {
     "end_time": "2025-09-18T16:31:32.376580Z",
     "start_time": "2025-09-18T16:31:32.348196Z"
    }
   },
   "cell_type": "code",
   "source": [
    "import numpy as np\n",
    "#create a two dimensional array\n",
    "#Initialize th num of rows and cols\n",
    "rows =3\n",
    "cols=3\n",
    "\n",
    "#input array elements\n",
    "matrix=np.array([[1,2,3],[4,5,6],[7,8,9]])\n",
    "matrix1=[[1,2,3],[4,5,6],[7,8,9]]\n",
    "print(matrix)\n",
    "matrix1"
   ],
   "id": "c14c40b294bd4e1d",
   "outputs": [
    {
     "name": "stdout",
     "output_type": "stream",
     "text": [
      "[[1 2 3]\n",
      " [4 5 6]\n",
      " [7 8 9]]\n"
     ]
    },
    {
     "data": {
      "text/plain": [
       "[[1, 2, 3], [4, 5, 6], [7, 8, 9]]"
      ]
     },
     "execution_count": 31,
     "metadata": {},
     "output_type": "execute_result"
    }
   ],
   "execution_count": 31
  },
  {
   "metadata": {},
   "cell_type": "code",
   "outputs": [],
   "execution_count": null,
   "source": "",
   "id": "987cd674826d2b56"
  }
 ],
 "metadata": {
  "kernelspec": {
   "display_name": "Python 3",
   "language": "python",
   "name": "python3"
  },
  "language_info": {
   "codemirror_mode": {
    "name": "ipython",
    "version": 2
   },
   "file_extension": ".py",
   "mimetype": "text/x-python",
   "name": "python",
   "nbconvert_exporter": "python",
   "pygments_lexer": "ipython2",
   "version": "2.7.6"
  }
 },
 "nbformat": 4,
 "nbformat_minor": 5
}
