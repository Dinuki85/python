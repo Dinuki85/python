{
 "cells": [
  {
   "cell_type": "code",
   "id": "initial_id",
   "metadata": {
    "collapsed": true,
    "ExecuteTime": {
     "end_time": "2025-09-18T14:13:41.586209Z",
     "start_time": "2025-09-18T14:13:41.577420Z"
    }
   },
   "source": "print(\"Hello\") #printing the message",
   "outputs": [
    {
     "name": "stdout",
     "output_type": "stream",
     "text": [
      "Hello\n"
     ]
    }
   ],
   "execution_count": 1
  },
  {
   "metadata": {},
   "cell_type": "code",
   "source": "a = 5",
   "id": "a9f75ed8017b21e6",
   "outputs": [],
   "execution_count": 2
  },
  {
   "metadata": {
    "ExecuteTime": {
     "end_time": "2025-09-18T14:29:29.952383Z",
     "start_time": "2025-09-18T14:29:29.927509Z"
    }
   },
   "cell_type": "code",
   "source": "b = \"HI\"",
   "id": "77e3ff8fcab4549a",
   "outputs": [],
   "execution_count": 3
  },
  {
   "metadata": {
    "ExecuteTime": {
     "end_time": "2025-09-18T14:29:43.416604Z",
     "start_time": "2025-09-18T14:29:43.403466Z"
    }
   },
   "cell_type": "code",
   "source": [
    "#Get and print the datatype of  a given input\n",
    "print(type(a))\n",
    "print(type(b))"
   ],
   "id": "113835d0ada211d3",
   "outputs": [
    {
     "name": "stdout",
     "output_type": "stream",
     "text": [
      "<class 'int'>\n",
      "<class 'str'>\n"
     ]
    }
   ],
   "execution_count": 4
  },
  {
   "metadata": {
    "ExecuteTime": {
     "end_time": "2025-09-18T14:30:32.986728Z",
     "start_time": "2025-09-18T14:30:29.412029Z"
    }
   },
   "cell_type": "code",
   "source": [
    "#Get the input from the users\n",
    "x = int(input('Eneter the Number:'))"
   ],
   "id": "f0ecb64faf9315ad",
   "outputs": [],
   "execution_count": 5
  },
  {
   "metadata": {
    "ExecuteTime": {
     "end_time": "2025-09-18T14:47:46.468529Z",
     "start_time": "2025-09-18T14:47:38.789758Z"
    }
   },
   "cell_type": "code",
   "source": [
    "n1 = int(input('Enter Number 1:'))\n",
    "n2 = int(input(\"Eneter Numebr 2:\"))"
   ],
   "id": "cc622646c9f5f5b5",
   "outputs": [],
   "execution_count": 6
  },
  {
   "metadata": {
    "ExecuteTime": {
     "end_time": "2025-09-18T14:49:04.302731Z",
     "start_time": "2025-09-18T14:49:04.293424Z"
    }
   },
   "cell_type": "code",
   "source": [
    "#multiply and summation of the input numbers\n",
    "mul = n1 * n2\n",
    "sum = n1+n2"
   ],
   "id": "23e46c6e663870e0",
   "outputs": [],
   "execution_count": 8
  },
  {
   "metadata": {
    "ExecuteTime": {
     "end_time": "2025-09-18T14:49:54.334229Z",
     "start_time": "2025-09-18T14:49:54.318749Z"
    }
   },
   "cell_type": "code",
   "source": [
    "if mul>1000:\n",
    "    print(f\"The output is,{sum}\")\n",
    "else:\n",
    "    print(f\"The output is,{mul}\")"
   ],
   "id": "9c24e049be9eba4d",
   "outputs": [
    {
     "name": "stdout",
     "output_type": "stream",
     "text": [
      "The output is,45\n"
     ]
    }
   ],
   "execution_count": 9
  },
  {
   "metadata": {
    "ExecuteTime": {
     "end_time": "2025-09-18T14:53:58.807829Z",
     "start_time": "2025-09-18T14:53:58.748899Z"
    }
   },
   "cell_type": "code",
   "source": [
    "#Using Loop\n",
    "#method 1\n",
    "word = \"beautiful\"\n",
    "vowel = 'aeiou'\n",
    "vcount = 0\n",
    "\n",
    "for i in word:\n",
    "    if i in vowel:\n",
    "        vcount = vcount+1\n",
    "print(vcount)"
   ],
   "id": "427c6e3f37685951",
   "outputs": [
    {
     "name": "stdout",
     "output_type": "stream",
     "text": [
      "5\n"
     ]
    }
   ],
   "execution_count": 10
  },
  {
   "metadata": {
    "ExecuteTime": {
     "end_time": "2025-09-18T14:55:43.889885Z",
     "start_time": "2025-09-18T14:55:43.858525Z"
    }
   },
   "cell_type": "code",
   "source": [
    "#method 2\n",
    "word = \"beautiful\"\n",
    "vcount = 0\n",
    "for x in word :\n",
    "    if x=='a' or x =='e' or x== 'i' or x=='o' or x =='u':\n",
    "        vcount+=1\n",
    "print(vcount)\n"
   ],
   "id": "760958e406d855e7",
   "outputs": [
    {
     "name": "stdout",
     "output_type": "stream",
     "text": [
      "5\n"
     ]
    }
   ],
   "execution_count": 11
  },
  {
   "metadata": {
    "ExecuteTime": {
     "end_time": "2025-09-18T14:56:47.903606Z",
     "start_time": "2025-09-18T14:56:47.883905Z"
    }
   },
   "cell_type": "code",
   "source": [
    "#case sensitivity of the code\n",
    "WORD = \"hi\"\n",
    "word =\"hello\"\n",
    "print(WORD)\n",
    "print(word)"
   ],
   "id": "d3774499800be4cf",
   "outputs": [
    {
     "name": "stdout",
     "output_type": "stream",
     "text": [
      "hi\n",
      "hello\n"
     ]
    }
   ],
   "execution_count": 12
  },
  {
   "metadata": {
    "ExecuteTime": {
     "end_time": "2025-09-18T15:03:40.212638Z",
     "start_time": "2025-09-18T15:03:40.136339Z"
    }
   },
   "cell_type": "code",
   "source": [
    "#Define a function\n",
    "def EvenOdd(x):\n",
    "    if(x%2 == 0):\n",
    "        return \"Even\"\n",
    "    else:\n",
    "        return \"Odd\"\n",
    "\n",
    "print(EvenOdd(16))\n",
    "print(EvenOdd(5))"
   ],
   "id": "c1519c08de6ad319",
   "outputs": [
    {
     "name": "stdout",
     "output_type": "stream",
     "text": [
      "Even\n",
      "Odd\n"
     ]
    }
   ],
   "execution_count": 13
  },
  {
   "metadata": {
    "ExecuteTime": {
     "end_time": "2025-09-18T15:04:47.520337Z",
     "start_time": "2025-09-18T15:04:47.495947Z"
    }
   },
   "cell_type": "code",
   "source": [
    "#Define while loop\n",
    "num = 1\n",
    "while num<10:\n",
    "    print(num)\n",
    "    num+=1"
   ],
   "id": "dbf658e44f40453e",
   "outputs": [
    {
     "name": "stdout",
     "output_type": "stream",
     "text": [
      "1\n",
      "2\n",
      "3\n",
      "4\n",
      "5\n",
      "6\n",
      "7\n",
      "8\n",
      "9\n"
     ]
    }
   ],
   "execution_count": 14
  },
  {
   "metadata": {
    "ExecuteTime": {
     "end_time": "2025-09-18T15:06:01.958092Z",
     "start_time": "2025-09-18T15:06:01.944406Z"
    }
   },
   "cell_type": "code",
   "source": [
    "#Define a while loop with break\n",
    "num = 1\n",
    "while num<10:\n",
    "    print(num)\n",
    "    if num==4:\n",
    "        break\n",
    "    num+=1"
   ],
   "id": "9e02c8c46a0d117a",
   "outputs": [
    {
     "name": "stdout",
     "output_type": "stream",
     "text": [
      "1\n",
      "2\n",
      "3\n",
      "4\n"
     ]
    }
   ],
   "execution_count": 15
  },
  {
   "metadata": {},
   "cell_type": "code",
   "outputs": [],
   "execution_count": null,
   "source": "",
   "id": "ec8c339e451e93be"
  }
 ],
 "metadata": {
  "kernelspec": {
   "display_name": "Python 3",
   "language": "python",
   "name": "python3"
  },
  "language_info": {
   "codemirror_mode": {
    "name": "ipython",
    "version": 2
   },
   "file_extension": ".py",
   "mimetype": "text/x-python",
   "name": "python",
   "nbconvert_exporter": "python",
   "pygments_lexer": "ipython2",
   "version": "2.7.6"
  }
 },
 "nbformat": 4,
 "nbformat_minor": 5
}
