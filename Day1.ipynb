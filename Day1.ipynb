{
 "cells": [
  {
   "cell_type": "code",
   "id": "initial_id",
   "metadata": {
    "collapsed": true,
    "ExecuteTime": {
     "end_time": "2025-09-18T14:13:41.586209Z",
     "start_time": "2025-09-18T14:13:41.577420Z"
    }
   },
   "source": "print(\"Hello\") #printing the message",
   "outputs": [
    {
     "name": "stdout",
     "output_type": "stream",
     "text": [
      "Hello\n"
     ]
    }
   ],
   "execution_count": 1
  },
  {
   "metadata": {},
   "cell_type": "code",
   "source": "a = 5",
   "id": "a9f75ed8017b21e6",
   "outputs": [],
   "execution_count": 2
  },
  {
   "metadata": {
    "ExecuteTime": {
     "end_time": "2025-09-18T14:29:29.952383Z",
     "start_time": "2025-09-18T14:29:29.927509Z"
    }
   },
   "cell_type": "code",
   "source": "b = \"HI\"",
   "id": "77e3ff8fcab4549a",
   "outputs": [],
   "execution_count": 3
  },
  {
   "metadata": {
    "ExecuteTime": {
     "end_time": "2025-09-18T14:29:43.416604Z",
     "start_time": "2025-09-18T14:29:43.403466Z"
    }
   },
   "cell_type": "code",
   "source": [
    "#Get and print the datatype of  a given input\n",
    "print(type(a))\n",
    "print(type(b))"
   ],
   "id": "113835d0ada211d3",
   "outputs": [
    {
     "name": "stdout",
     "output_type": "stream",
     "text": [
      "<class 'int'>\n",
      "<class 'str'>\n"
     ]
    }
   ],
   "execution_count": 4
  },
  {
   "metadata": {
    "ExecuteTime": {
     "end_time": "2025-09-18T14:30:32.986728Z",
     "start_time": "2025-09-18T14:30:29.412029Z"
    }
   },
   "cell_type": "code",
   "source": [
    "#Get the input from the users\n",
    "x = int(input('Eneter the Number:'))"
   ],
   "id": "f0ecb64faf9315ad",
   "outputs": [],
   "execution_count": 5
  },
  {
   "metadata": {},
   "cell_type": "code",
   "outputs": [],
   "execution_count": null,
   "source": "",
   "id": "cc622646c9f5f5b5"
  }
 ],
 "metadata": {
  "kernelspec": {
   "display_name": "Python 3",
   "language": "python",
   "name": "python3"
  },
  "language_info": {
   "codemirror_mode": {
    "name": "ipython",
    "version": 2
   },
   "file_extension": ".py",
   "mimetype": "text/x-python",
   "name": "python",
   "nbconvert_exporter": "python",
   "pygments_lexer": "ipython2",
   "version": "2.7.6"
  }
 },
 "nbformat": 4,
 "nbformat_minor": 5
}
